{
  "nbformat": 4,
  "nbformat_minor": 0,
  "metadata": {
    "colab": {
      "provenance": []
    },
    "kernelspec": {
      "name": "python3",
      "display_name": "Python 3"
    },
    "language_info": {
      "name": "python"
    }
  },
  "cells": [
    {
      "cell_type": "code",
      "execution_count": null,
      "metadata": {
        "id": "Pey_8Q5RI8oI"
      },
      "outputs": [],
      "source": [
        "from __future__ import print_function\n",
        "import argparse\n",
        "import torch\n",
        "import torch.nn as nn\n",
        "import torch.nn.functional as F\n",
        "import torch.optim as optim\n",
        "from torchvision import datasets, transforms\n",
        "import numpy as np\n",
        "from scipy.spatial.distance import cdist"
      ]
    },
    {
      "cell_type": "code",
      "source": [
        "import pandas as pd\n",
        "import numpy as np\n",
        "import random\n",
        "from sklearn.preprocessing import StandardScaler\n",
        "transform=transforms.Compose([\n",
        "                           transforms.ToTensor(),transforms.Normalize((0.1307,), (0.3081,))])\n",
        "sc_X = StandardScaler()\n",
        "\n",
        "\n",
        "def fileFeedforGNN(name):\n",
        "\n",
        "  data = pd.read_table(name)\n",
        "  X_array = data.iloc[:, 0:16].values\n",
        "\n",
        "\n",
        " \n",
        "  adding_process_list = []\n",
        "  \n",
        "  for i in range(len(data)- 27):\n",
        "    X_array = data.iloc[i:i+28, 0:16].values\n",
        "  \n",
        "    adding_process_list.append(X_array)\n",
        "  \n",
        "  \n",
        "  \n",
        "\n",
        "  y = data.iloc[:,-3].values\n",
        "  \n",
        "  \n",
        "  print(np.unique(y))\n",
        "\n",
        "\n",
        "  graphList = []\n",
        "  X = adding_process_list\n",
        "  for i in range(len(X)):\n",
        "    interList = []\n",
        "    \n",
        "    for j in range(len(X[i])):\n",
        "      \n",
        "      for k in range(len(X[i][j])):\n",
        "        interList.append(X[i][j][k])\n",
        "      interList+=[X[i][j][1],X[i][j][2],X[i][j][3],X[i][j][5],X[i][j][6],X[i][j][7],X[i][j][8],X[i][j][10],X[i][j][11],X[i][j][12],X[i][j][13],X[i][j][15]]\n",
        "    int_array = np.array(interList)\n",
        "    int_array = int_array.reshape(28,28)\n",
        "\n",
        "    #print(int_array.reshape(28,28).shape)\n",
        "\n",
        "    \n",
        "\n",
        "    if(y[i] =='bot'):\n",
        "      graphList.append((int_array,0))\n",
        "    elif (y[i] == 'clothes'):\n",
        "      graphList.append((int_array,1))\n",
        "    elif (y[i] == 'plastic'):\n",
        "      graphList.append((int_array,2))\n",
        "    elif (y[i] == 'steel'):\n",
        "      graphList.append((int_array,3))\n",
        "  \n",
        "  return graphList\n",
        "\n",
        "\n",
        "############################## data loading for 3.5 inch#####################\n",
        "\n",
        "graphList_lablight_3_5 = fileFeedforGNN('lablight_3.5_.txt')"
      ],
      "metadata": {
        "colab": {
          "base_uri": "https://localhost:8080/"
        },
        "id": "rOPunBmKJAmo",
        "outputId": "0724a4b2-bebc-4673-ed3f-c57c38ef09f9"
      },
      "execution_count": null,
      "outputs": [
        {
          "output_type": "stream",
          "name": "stdout",
          "text": [
            "['bot' 'clothes' 'plastic' 'steel']\n"
          ]
        }
      ]
    },
    {
      "cell_type": "code",
      "source": [
        "for i in range(len(graphList_lablight_3_5)):\n",
        "  features, label = graphList_lablight_3_5[i]\n",
        "\n",
        "  if (label == 0):\n",
        "    bot = features\n",
        "    break\n",
        "\n",
        "\n",
        "for i in range(len(graphList_lablight_3_5)):\n",
        "  features, label = graphList_lablight_3_5[i]\n",
        "\n",
        "  if (label == 1):\n",
        "    clothes = features\n",
        "    break\n",
        "\n",
        "for i in range(len(graphList_lablight_3_5)):\n",
        "  features, label = graphList_lablight_3_5[i]\n",
        "\n",
        "  if (label == 2):\n",
        "    plastic = features\n",
        "    break\n",
        "  \n",
        "\n",
        "for i in range(len(graphList_lablight_3_5)):\n",
        "  features, label = graphList_lablight_3_5[i]\n",
        "\n",
        "  if (label == 3):\n",
        "    steel = features\n",
        "    break\n"
      ],
      "metadata": {
        "id": "r3-X3RH1KVhh"
      },
      "execution_count": null,
      "outputs": []
    },
    {
      "cell_type": "code",
      "source": [
        "import matplotlib.pyplot as mp\n",
        "import numpy as np\n",
        "# Creating the 144 X 144 NumPy Array with random values\n",
        "\n",
        "\n",
        "arr = np.array(plastic)\n",
        "new_arr = ((arr - arr.min()) * (1/(arr.max() - arr.min()) * 255)).astype('uint8')\n",
        "# Converting the NumPy Array into an image\n",
        "mp.imsave(\"plastic.png\",new_arr)\n",
        "print(\" The Image is saved successfully \")"
      ],
      "metadata": {
        "colab": {
          "base_uri": "https://localhost:8080/"
        },
        "id": "jpkEe8dkLTSP",
        "outputId": "8ad62d68-c27b-438e-e3c8-e6235a6abbcd"
      },
      "execution_count": null,
      "outputs": [
        {
          "output_type": "stream",
          "name": "stdout",
          "text": [
            " The Image is saved successfully \n"
          ]
        }
      ]
    },
    {
      "cell_type": "code",
      "source": [],
      "metadata": {
        "colab": {
          "base_uri": "https://localhost:8080/",
          "height": 253
        },
        "id": "rh1V3pR8OaKP",
        "outputId": "06d7889a-f4ee-4063-df9a-af1db76f07f2"
      },
      "execution_count": null,
      "outputs": [
        {
          "output_type": "error",
          "ename": "error",
          "evalue": "ignored",
          "traceback": [
            "\u001b[0;31m---------------------------------------------------------------------------\u001b[0m",
            "\u001b[0;31merror\u001b[0m                                     Traceback (most recent call last)",
            "\u001b[0;32m<ipython-input-13-6d61e2bc48cb>\u001b[0m in \u001b[0;36m<module>\u001b[0;34m\u001b[0m\n\u001b[1;32m      1\u001b[0m \u001b[0;32mimport\u001b[0m \u001b[0mcv2\u001b[0m\u001b[0;34m\u001b[0m\u001b[0;34m\u001b[0m\u001b[0m\n\u001b[0;32m----> 2\u001b[0;31m \u001b[0mimage\u001b[0m\u001b[0;34m=\u001b[0m\u001b[0mcv2\u001b[0m\u001b[0;34m.\u001b[0m\u001b[0mresize\u001b[0m\u001b[0;34m(\u001b[0m\u001b[0;34m'Image_from_array.png'\u001b[0m\u001b[0;34m,\u001b[0m\u001b[0;34m(\u001b[0m\u001b[0;36m700\u001b[0m\u001b[0;34m,\u001b[0m\u001b[0;36m700\u001b[0m\u001b[0;34m)\u001b[0m\u001b[0;34m)\u001b[0m\u001b[0;34m\u001b[0m\u001b[0;34m\u001b[0m\u001b[0m\n\u001b[0m\u001b[1;32m      3\u001b[0m \u001b[0mcv2\u001b[0m\u001b[0;34m.\u001b[0m\u001b[0mimwrite\u001b[0m\u001b[0;34m(\u001b[0m\u001b[0;34m''\u001b[0m\u001b[0;34m,\u001b[0m\u001b[0mimage\u001b[0m\u001b[0;34m)\u001b[0m\u001b[0;34m\u001b[0m\u001b[0;34m\u001b[0m\u001b[0m\n",
            "\u001b[0;31merror\u001b[0m: OpenCV(4.6.0) :-1: error: (-5:Bad argument) in function 'resize'\n> Overload resolution failed:\n>  - src is not a numpy array, neither a scalar\n>  - Expected Ptr<cv::UMat> for argument 'src'\n"
          ]
        }
      ]
    }
  ]
}